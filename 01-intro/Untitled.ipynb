{
 "cells": [
  {
   "cell_type": "code",
   "execution_count": 7,
   "id": "58ca236a-4c67-44ce-9c3f-696afda18c4d",
   "metadata": {},
   "outputs": [],
   "source": [
    "import numpy as np"
   ]
  },
  {
   "cell_type": "code",
   "execution_count": 8,
   "id": "aff1c58b-ed58-478e-a08b-7f8ff476ffd1",
   "metadata": {},
   "outputs": [
    {
     "data": {
      "text/plain": [
       "<module 'numpy' from '/home/codespace/.local/lib/python3.12/site-packages/numpy/__init__.py'>"
      ]
     },
     "execution_count": 8,
     "metadata": {},
     "output_type": "execute_result"
    }
   ],
   "source": [
    "np"
   ]
  },
  {
   "cell_type": "code",
   "execution_count": 9,
   "id": "c15dcc25-99b0-40be-8fc9-6e8f4fe8cca2",
   "metadata": {},
   "outputs": [],
   "source": [
    "u = np.array([2,5,7,9])"
   ]
  },
  {
   "cell_type": "code",
   "execution_count": 10,
   "id": "f0821c22-af4f-4e90-8900-6b7a6c59412c",
   "metadata": {},
   "outputs": [
    {
     "data": {
      "text/plain": [
       "array([2, 5, 7, 9])"
      ]
     },
     "execution_count": 10,
     "metadata": {},
     "output_type": "execute_result"
    }
   ],
   "source": [
    "u"
   ]
  },
  {
   "cell_type": "code",
   "execution_count": 11,
   "id": "4755cfdc-ff95-4a8b-8978-84a872022ff8",
   "metadata": {},
   "outputs": [],
   "source": [
    "v = np.array([1,0,0,2])"
   ]
  },
  {
   "cell_type": "code",
   "execution_count": 12,
   "id": "1cc113d1-20a0-4470-aceb-bb97f57f414f",
   "metadata": {},
   "outputs": [
    {
     "data": {
      "text/plain": [
       "array([1, 0, 0, 2])"
      ]
     },
     "execution_count": 12,
     "metadata": {},
     "output_type": "execute_result"
    }
   ],
   "source": [
    "v"
   ]
  },
  {
   "cell_type": "code",
   "execution_count": 13,
   "id": "43f90033-c79f-4c76-93f7-30c072bb3665",
   "metadata": {},
   "outputs": [
    {
     "data": {
      "text/plain": [
       "array([ 4, 10, 14, 18])"
      ]
     },
     "execution_count": 13,
     "metadata": {},
     "output_type": "execute_result"
    }
   ],
   "source": [
    "u * 2"
   ]
  },
  {
   "cell_type": "code",
   "execution_count": 14,
   "id": "ed877279-7490-4c64-9a91-7798eaaf7b08",
   "metadata": {},
   "outputs": [
    {
     "data": {
      "text/plain": [
       "array([ 3,  5,  7, 11])"
      ]
     },
     "execution_count": 14,
     "metadata": {},
     "output_type": "execute_result"
    }
   ],
   "source": [
    "u + v"
   ]
  },
  {
   "cell_type": "code",
   "execution_count": 15,
   "id": "3a16cb58-4ab5-47b6-a8e0-05df82362e4f",
   "metadata": {},
   "outputs": [
    {
     "data": {
      "text/plain": [
       "array([ 2,  0,  0, 18])"
      ]
     },
     "execution_count": 15,
     "metadata": {},
     "output_type": "execute_result"
    }
   ],
   "source": [
    "u * v"
   ]
  },
  {
   "cell_type": "code",
   "execution_count": 16,
   "id": "f9306ef1-7e52-41c5-9421-7663079e32d2",
   "metadata": {},
   "outputs": [
    {
     "data": {
      "text/plain": [
       "(4,)"
      ]
     },
     "execution_count": 16,
     "metadata": {},
     "output_type": "execute_result"
    }
   ],
   "source": [
    "u.shape"
   ]
  },
  {
   "cell_type": "code",
   "execution_count": 17,
   "id": "757c978b-a88c-44c9-ac4b-3807ef4ed6d6",
   "metadata": {},
   "outputs": [
    {
     "data": {
      "text/plain": [
       "(4,)"
      ]
     },
     "execution_count": 17,
     "metadata": {},
     "output_type": "execute_result"
    }
   ],
   "source": [
    "v.shape"
   ]
  },
  {
   "cell_type": "code",
   "execution_count": 18,
   "id": "bf2354fa-4cfc-4c91-a262-835b15a3f7fd",
   "metadata": {},
   "outputs": [
    {
     "data": {
      "text/plain": [
       "4"
      ]
     },
     "execution_count": 18,
     "metadata": {},
     "output_type": "execute_result"
    }
   ],
   "source": [
    "u.shape[0]"
   ]
  },
  {
   "cell_type": "code",
   "execution_count": 19,
   "id": "b1da131b-8138-4d7e-b362-fc5a46de683c",
   "metadata": {},
   "outputs": [
    {
     "data": {
      "text/plain": [
       "4"
      ]
     },
     "execution_count": 19,
     "metadata": {},
     "output_type": "execute_result"
    }
   ],
   "source": [
    "v.shape[0]"
   ]
  },
  {
   "cell_type": "code",
   "execution_count": 20,
   "id": "322adefd-27f9-4686-9d53-c0a1e4aa8477",
   "metadata": {},
   "outputs": [],
   "source": [
    "def vector_vector_multiplication(u,v):\n",
    "    \n",
    "    assert u.shape[0] == v.shape[0]\n",
    "    \n",
    "    n = u.shape[0]\n",
    "\n",
    "    result = 0.0\n",
    "    \n",
    "    for i in range(n):\n",
    "        result = result + u[i] * v[i]\n",
    "    return result"
   ]
  },
  {
   "cell_type": "code",
   "execution_count": 21,
   "id": "d1add165-1cf5-406e-9d00-5994808726f3",
   "metadata": {},
   "outputs": [
    {
     "data": {
      "text/plain": [
       "np.float64(20.0)"
      ]
     },
     "execution_count": 21,
     "metadata": {},
     "output_type": "execute_result"
    }
   ],
   "source": [
    "vector_vector_multiplication(u,v)"
   ]
  },
  {
   "cell_type": "code",
   "execution_count": 22,
   "id": "91628319-afe6-41c9-9376-70e6cc91b1e8",
   "metadata": {},
   "outputs": [],
   "source": [
    "U = np.array([\n",
    "    [ 1 , 4 , 7 , 9 ],\n",
    "    [ 2 , 5 , 8 , 5 ],\n",
    "    [ 3 , 6 , 9 , 1 ]\n",
    "])"
   ]
  },
  {
   "cell_type": "code",
   "execution_count": 23,
   "id": "a4132cbb-33d7-486b-ab56-a16b700f7c30",
   "metadata": {},
   "outputs": [
    {
     "data": {
      "text/plain": [
       "array([[1, 4, 7, 9],\n",
       "       [2, 5, 8, 5],\n",
       "       [3, 6, 9, 1]])"
      ]
     },
     "execution_count": 23,
     "metadata": {},
     "output_type": "execute_result"
    }
   ],
   "source": [
    "U"
   ]
  },
  {
   "cell_type": "code",
   "execution_count": 24,
   "id": "27134806-e60c-43ed-a171-50a51ca1ceb5",
   "metadata": {},
   "outputs": [
    {
     "data": {
      "text/plain": [
       "(3, 4)"
      ]
     },
     "execution_count": 24,
     "metadata": {},
     "output_type": "execute_result"
    }
   ],
   "source": [
    "U.shape"
   ]
  },
  {
   "cell_type": "code",
   "execution_count": 25,
   "id": "e87d78bb-ba77-4bb9-b53c-ec125ffa9761",
   "metadata": {},
   "outputs": [
    {
     "data": {
      "text/plain": [
       "3"
      ]
     },
     "execution_count": 25,
     "metadata": {},
     "output_type": "execute_result"
    }
   ],
   "source": [
    "U.shape[0]"
   ]
  },
  {
   "cell_type": "code",
   "execution_count": 54,
   "id": "5412082c-61a4-4238-8ec8-d6232b4bfdbd",
   "metadata": {},
   "outputs": [
    {
     "data": {
      "text/plain": [
       "4"
      ]
     },
     "execution_count": 54,
     "metadata": {},
     "output_type": "execute_result"
    }
   ],
   "source": [
    "U.shape[1]"
   ]
  },
  {
   "cell_type": "code",
   "execution_count": 60,
   "id": "2865c5e5-255f-42c9-8f58-026de549abf9",
   "metadata": {},
   "outputs": [
    {
     "data": {
      "text/plain": [
       "4"
      ]
     },
     "execution_count": 60,
     "metadata": {},
     "output_type": "execute_result"
    }
   ],
   "source": [
    "v.shape[0]"
   ]
  },
  {
   "cell_type": "code",
   "execution_count": 62,
   "id": "c290626a-895a-4892-bb1f-320e15e5a50c",
   "metadata": {},
   "outputs": [
    {
     "data": {
      "text/plain": [
       "(3, 4)"
      ]
     },
     "execution_count": 62,
     "metadata": {},
     "output_type": "execute_result"
    }
   ],
   "source": [
    "U.shape"
   ]
  },
  {
   "cell_type": "code",
   "execution_count": 69,
   "id": "82740652-a67c-4db5-b59d-d016f7098871",
   "metadata": {},
   "outputs": [],
   "source": [
    "def matrix_vector_multiplication(U,v):\n",
    "    \n",
    "    assert U.shape[1] == v.shape[0]\n",
    "\n",
    "    rows_num = U.shape[0]\n",
    "\n",
    "    result = np.zeros(rows_num)\n",
    "\n",
    "    for i in range(rows_num):\n",
    "        result[i] = vector_vector_multiplication(U[i],v)\n",
    "        \n",
    "    return result"
   ]
  },
  {
   "cell_type": "code",
   "execution_count": 70,
   "id": "50a157d4-26e2-436e-affb-b9f43706774d",
   "metadata": {},
   "outputs": [
    {
     "data": {
      "text/plain": [
       "array([19., 12.,  5.])"
      ]
     },
     "execution_count": 70,
     "metadata": {},
     "output_type": "execute_result"
    }
   ],
   "source": [
    "matrix_vector_multiplication(U,v)"
   ]
  },
  {
   "cell_type": "code",
   "execution_count": 72,
   "id": "1b262b85-2822-4099-9486-73e74025b74e",
   "metadata": {},
   "outputs": [
    {
     "data": {
      "text/plain": [
       "array([19, 12,  5])"
      ]
     },
     "execution_count": 72,
     "metadata": {},
     "output_type": "execute_result"
    }
   ],
   "source": [
    "U.dot(v)"
   ]
  },
  {
   "cell_type": "code",
   "execution_count": 77,
   "id": "7a85ad1c-cc9f-47dd-8e7a-2709521a792e",
   "metadata": {},
   "outputs": [],
   "source": [
    "V = np.array([\n",
    "    [9,5,1],\n",
    "    [7,5,3],\n",
    "    [0,0,1,],\n",
    "    [8,5,2]\n",
    "])"
   ]
  },
  {
   "cell_type": "code",
   "execution_count": 79,
   "id": "c95d5b34-85cc-4a0f-9377-0c06281fcba1",
   "metadata": {},
   "outputs": [
    {
     "data": {
      "text/plain": [
       "array([[9, 5, 1],\n",
       "       [7, 5, 3],\n",
       "       [0, 0, 1],\n",
       "       [8, 5, 2]])"
      ]
     },
     "execution_count": 79,
     "metadata": {},
     "output_type": "execute_result"
    }
   ],
   "source": [
    "V"
   ]
  },
  {
   "cell_type": "code",
   "execution_count": 91,
   "id": "06f970cf-7b72-4ae4-8a02-dad63bab3690",
   "metadata": {},
   "outputs": [],
   "source": [
    "def matrix_matrix_multiplication(U,V):\n",
    "    assert U.shape[1] == V.shape[0]\n",
    "    rows_num = U.shape[0]\n",
    "    cols_num = V.shape[1]\n",
    "    result = np.zeros((rows_num,cols_num))\n",
    "    for i in range(cols_num):\n",
    "        vi = V[:,i]\n",
    "        Uvi = matrix_vector_multiplication(U,vi)\n",
    "        result[:,i] = Uvi\n",
    "    return result    "
   ]
  },
  {
   "cell_type": "code",
   "execution_count": 92,
   "id": "a4980aa0-3814-4aa5-bb2f-a42dd7624200",
   "metadata": {},
   "outputs": [
    {
     "data": {
      "text/plain": [
       "array([[109.,  70.,  38.],\n",
       "       [ 93.,  60.,  35.],\n",
       "       [ 77.,  50.,  32.]])"
      ]
     },
     "execution_count": 92,
     "metadata": {},
     "output_type": "execute_result"
    }
   ],
   "source": [
    "matrix_matrix_multiplication(U,V)"
   ]
  },
  {
   "cell_type": "code",
   "execution_count": 93,
   "id": "215a52ce-22cb-4f70-9d7d-d72e44b5d078",
   "metadata": {},
   "outputs": [
    {
     "data": {
      "text/plain": [
       "array([[109,  70,  38],\n",
       "       [ 93,  60,  35],\n",
       "       [ 77,  50,  32]])"
      ]
     },
     "execution_count": 93,
     "metadata": {},
     "output_type": "execute_result"
    }
   ],
   "source": [
    "U.dot(V)"
   ]
  },
  {
   "cell_type": "markdown",
   "id": "01658bae-f2f4-4940-bc33-13f61009de01",
   "metadata": {},
   "source": [
    "Identity Matrix"
   ]
  },
  {
   "cell_type": "code",
   "execution_count": 95,
   "id": "894e6a03-6bb5-4a0d-9c6a-b100dd3f5db6",
   "metadata": {},
   "outputs": [],
   "source": [
    "I = np.eye(3)"
   ]
  },
  {
   "cell_type": "code",
   "execution_count": 96,
   "id": "39081113-9a4c-40e3-8e27-97f0f93dfcfb",
   "metadata": {},
   "outputs": [
    {
     "data": {
      "text/plain": [
       "array([[9, 5, 1],\n",
       "       [7, 5, 3],\n",
       "       [0, 0, 1],\n",
       "       [8, 5, 2]])"
      ]
     },
     "execution_count": 96,
     "metadata": {},
     "output_type": "execute_result"
    }
   ],
   "source": [
    "V"
   ]
  },
  {
   "cell_type": "code",
   "execution_count": 97,
   "id": "94db1f41-7e50-4738-9a6d-479a8945260c",
   "metadata": {},
   "outputs": [
    {
     "data": {
      "text/plain": [
       "array([[9., 5., 1.],\n",
       "       [7., 5., 3.],\n",
       "       [0., 0., 1.],\n",
       "       [8., 5., 2.]])"
      ]
     },
     "execution_count": 97,
     "metadata": {},
     "output_type": "execute_result"
    }
   ],
   "source": [
    "V.dot(I)"
   ]
  },
  {
   "cell_type": "markdown",
   "id": "57badd70-576a-461c-9c76-2fdd175b8d96",
   "metadata": {},
   "source": [
    "Inverse Matrix"
   ]
  },
  {
   "cell_type": "code",
   "execution_count": 98,
   "id": "c84c1328-4fdc-464e-a7e1-c01c02e4cb47",
   "metadata": {},
   "outputs": [
    {
     "data": {
      "text/plain": [
       "array([[9, 5, 1],\n",
       "       [7, 5, 3],\n",
       "       [0, 0, 1]])"
      ]
     },
     "execution_count": 98,
     "metadata": {},
     "output_type": "execute_result"
    }
   ],
   "source": [
    "Vs = V[[0,1,2]]\n",
    "Vs"
   ]
  },
  {
   "cell_type": "code",
   "execution_count": 104,
   "id": "1f1b9c9a-b6db-4e4f-89e8-5a974ff3758c",
   "metadata": {},
   "outputs": [],
   "source": [
    " Vs_inv = np.linalg.inv(Vs)"
   ]
  },
  {
   "cell_type": "code",
   "execution_count": 106,
   "id": "644383af-794d-489b-979e-8a2cd9c947ac",
   "metadata": {},
   "outputs": [
    {
     "data": {
      "text/plain": [
       "array([[1., 0., 0.],\n",
       "       [0., 1., 0.],\n",
       "       [0., 0., 1.]])"
      ]
     },
     "execution_count": 106,
     "metadata": {},
     "output_type": "execute_result"
    }
   ],
   "source": [
    "np.round(Vs_inv.dot(Vs), 10)"
   ]
  },
  {
   "cell_type": "code",
   "execution_count": null,
   "id": "1d23aa24-119e-4722-8e78-1bac18bd15de",
   "metadata": {},
   "outputs": [],
   "source": []
  }
 ],
 "metadata": {
  "kernelspec": {
   "display_name": "Python 3 (ipykernel)",
   "language": "python",
   "name": "python3"
  },
  "language_info": {
   "codemirror_mode": {
    "name": "ipython",
    "version": 3
   },
   "file_extension": ".py",
   "mimetype": "text/x-python",
   "name": "python",
   "nbconvert_exporter": "python",
   "pygments_lexer": "ipython3",
   "version": "3.12.1"
  }
 },
 "nbformat": 4,
 "nbformat_minor": 5
}
