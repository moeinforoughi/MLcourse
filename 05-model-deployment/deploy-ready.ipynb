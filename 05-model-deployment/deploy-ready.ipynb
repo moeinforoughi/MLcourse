{
 "cells": [
  {
   "cell_type": "code",
   "execution_count": 2,
   "id": "140c971a-f5fb-45d8-aa1a-272fe9c97283",
   "metadata": {},
   "outputs": [],
   "source": [
    "import pandas as pd\n",
    "import numpy as np\n",
    "\n",
    "from sklearn.model_selection import train_test_split\n",
    "from sklearn.model_selection import KFold\n",
    "\n",
    "from sklearn.feature_extraction import DictVectorizer\n",
    "from sklearn.linear_model import LogisticRegression\n",
    "from sklearn.metrics import roc_auc_score"
   ]
  },
  {
   "cell_type": "code",
   "execution_count": 3,
   "id": "37716233-f7e5-4005-a32e-f7c889dab7ab",
   "metadata": {},
   "outputs": [],
   "source": [
    "df = pd.read_csv('data.csv')\n",
    "\n",
    "df.columns = df.columns.str.lower().str.replace(' ','_')\n",
    "\n",
    "categorical_columns = list(df.dtypes[df.dtypes == 'object'].index)\n",
    "for col in categorical_columns:\n",
    "    df[col] = df[col].str.lower().str.replace(' ','_')\n",
    "\n",
    "df.totalcharges = pd.to_numeric(df.totalcharges, errors='coerce')\n",
    "df.totalcharges = df.totalcharges.fillna(0)\n",
    "\n",
    "df.churn = (df.churn == 'yes').astype(int)"
   ]
  },
  {
   "cell_type": "code",
   "execution_count": 4,
   "id": "f18a9380-ce93-40f1-aa53-8da750e5793d",
   "metadata": {},
   "outputs": [],
   "source": [
    "df_full_train, df_test = train_test_split(df, test_size=0.2, random_state=1)"
   ]
  },
  {
   "cell_type": "code",
   "execution_count": 5,
   "id": "fe7ff522-37a5-4cb8-bf69-5ac3644196d9",
   "metadata": {},
   "outputs": [],
   "source": [
    "numerical = ['tenure', 'monthlycharges', 'totalcharges']\n",
    "categorical =['gender',\n",
    "              'seniorcitizen',\n",
    "              'partner',\n",
    "              'dependents', \n",
    "              'phoneservice',\n",
    "              'multiplelines',\n",
    "              'internetservice', \n",
    "              'onlinesecurity',\n",
    "              'onlinebackup', \n",
    "              'deviceprotection', \n",
    "              'techsupport', \n",
    "              'streamingtv', \n",
    "              'streamingmovies', \n",
    "              'contract', \n",
    "              'paperlessbilling', \n",
    "              'paymentmethod']"
   ]
  },
  {
   "cell_type": "code",
   "execution_count": 6,
   "id": "866c43fa-db22-4053-bd3b-715d9899af05",
   "metadata": {},
   "outputs": [],
   "source": [
    "def train(df_train, y_train, C=1.0):\n",
    "    dicts = df_train[categorical + numerical].to_dict(orient = 'records')\n",
    "\n",
    "    dv = DictVectorizer(sparse=False)\n",
    "    X_train = dv.fit_transform(dicts)\n",
    "\n",
    "    model = LogisticRegression(C=C, max_iter=5000, solver='lbfgs')\n",
    "    model.fit(X_train, y_train)\n",
    "\n",
    "    return dv, model"
   ]
  },
  {
   "cell_type": "code",
   "execution_count": 7,
   "id": "498a5248-bcd5-4722-b9eb-1a295fe1841b",
   "metadata": {},
   "outputs": [],
   "source": [
    "def predict(df, dv, model):\n",
    "    dicts = df[categorical + numerical].to_dict(orient = 'records')\n",
    "\n",
    "    X = dv.transform(dicts)\n",
    "    y_pred = model.predict_proba(X)[:,1]\n",
    "\n",
    "    return y_pred"
   ]
  },
  {
   "cell_type": "code",
   "execution_count": 8,
   "id": "04bef678-504d-4358-bf8b-c8545e4ad30b",
   "metadata": {},
   "outputs": [],
   "source": [
    "C = 1.0\n",
    "n_splits = 5"
   ]
  },
  {
   "cell_type": "code",
   "execution_count": 9,
   "id": "b93e7681-8614-446b-b4f1-b45ebfda72ec",
   "metadata": {},
   "outputs": [
    {
     "name": "stdout",
     "output_type": "stream",
     "text": [
      "1.0 0.844 +- 0.000\n",
      "1.0 0.845 +- 0.000\n",
      "1.0 0.841 +- 0.005\n",
      "1.0 0.839 +- 0.005\n",
      "1.0 0.842 +- 0.007\n"
     ]
    }
   ],
   "source": [
    "kfold = KFold(n_splits=n_splits, shuffle=True, random_state=1)\n",
    "\n",
    "scores = []\n",
    "\n",
    "for train_idx, val_idx in kfold.split(df_full_train):\n",
    "        \n",
    "    df_train = df_full_train.iloc[train_idx]\n",
    "    df_val = df_full_train.iloc[val_idx]\n",
    "    \n",
    "    y_train = df_train.churn.values\n",
    "    y_val = df_val.churn.values\n",
    "    \n",
    "    dv, model = train(df_train, y_train, C=C)\n",
    "    y_pred = predict(df_val, dv, model)\n",
    "    \n",
    "    auc = roc_auc_score(y_val, y_pred)\n",
    "    scores.append(auc)\n",
    "\n",
    "    print('%s %.3f +- %.3f' % (C, np.mean(scores), np.std(scores)))"
   ]
  },
  {
   "cell_type": "code",
   "execution_count": 10,
   "id": "ae1b783a-6524-4b8f-8b1c-7e7961098cdc",
   "metadata": {},
   "outputs": [
    {
     "data": {
      "text/plain": [
       "[0.8443375120691413,\n",
       " 0.8449977651966627,\n",
       " 0.8333012241621514,\n",
       " 0.8347768913474451,\n",
       " 0.8518166985660947]"
      ]
     },
     "execution_count": 10,
     "metadata": {},
     "output_type": "execute_result"
    }
   ],
   "source": [
    "scores"
   ]
  },
  {
   "cell_type": "code",
   "execution_count": 11,
   "id": "b9dd8920-5e05-4b8b-8446-947349c19142",
   "metadata": {},
   "outputs": [
    {
     "data": {
      "text/plain": [
       "0.8584032088573997"
      ]
     },
     "execution_count": 11,
     "metadata": {},
     "output_type": "execute_result"
    }
   ],
   "source": [
    "dv, model = train(df_full_train, df_full_train.churn.values, C=1)\n",
    "y_pred = predict(df_test, dv, model)\n",
    "\n",
    "y_test = df_test.churn.values\n",
    "auc = roc_auc_score(y_test, y_pred)\n",
    "auc"
   ]
  },
  {
   "cell_type": "markdown",
   "id": "061047a2-efbc-404a-9fa7-c57209a8964d",
   "metadata": {},
   "source": [
    "<h3>Saving the model</h3>"
   ]
  },
  {
   "cell_type": "code",
   "execution_count": 12,
   "id": "7cf2b970-ce99-4f4d-8718-8a25626b6473",
   "metadata": {},
   "outputs": [],
   "source": [
    "import pickle "
   ]
  },
  {
   "cell_type": "code",
   "execution_count": 13,
   "id": "d16b3236-c82c-47c3-9c6c-f91d0112fd88",
   "metadata": {},
   "outputs": [
    {
     "data": {
      "text/plain": [
       "'model_c=1.0.bin'"
      ]
     },
     "execution_count": 13,
     "metadata": {},
     "output_type": "execute_result"
    }
   ],
   "source": [
    "output_file = f'model_c={C}.bin'\n",
    "output_file"
   ]
  },
  {
   "cell_type": "code",
   "execution_count": 14,
   "id": "d57613eb-f078-486d-beff-2e8731dc7fd9",
   "metadata": {},
   "outputs": [],
   "source": [
    "f_out = open(output_file, 'wb')\n",
    "pickle.dump((dv, model), f_out)\n",
    "f_out.close()"
   ]
  },
  {
   "cell_type": "code",
   "execution_count": 15,
   "id": "a7efb96c-5a71-40c0-bc8b-10788890da2a",
   "metadata": {},
   "outputs": [],
   "source": [
    "# This with help you if you forget to close the file you could work with the file only under the 'with'\n",
    "with open(output_file, 'wb') as f_out:\n",
    "    pickle.dump((dv, model), f_out)"
   ]
  },
  {
   "cell_type": "markdown",
   "id": "eae0296e-0ca8-4450-8a3e-1138f5a90fb6",
   "metadata": {},
   "source": [
    "<h3>Loading the model</h3>"
   ]
  },
  {
   "cell_type": "code",
   "execution_count": 16,
   "id": "cacd2a1b-5c04-45a4-89da-812ce8d7890b",
   "metadata": {},
   "outputs": [],
   "source": [
    "import pickle"
   ]
  },
  {
   "cell_type": "code",
   "execution_count": 17,
   "id": "228e6fbf-a32a-41d0-8faf-b8cab2645363",
   "metadata": {},
   "outputs": [],
   "source": [
    "model_file = 'model_c=1.0.bin'"
   ]
  },
  {
   "cell_type": "code",
   "execution_count": 18,
   "id": "ef9377c9-e544-4fac-9bc7-680059122b94",
   "metadata": {},
   "outputs": [],
   "source": [
    "# This with help you if you forget to close the file you could work with the file only under the 'with'\n",
    "with open(model_file, 'rb') as f_in:\n",
    "    (dv, model) = pickle.load(f_in)"
   ]
  },
  {
   "cell_type": "code",
   "execution_count": 19,
   "id": "1a7b1568-aadc-468c-9f00-964f54df7b8b",
   "metadata": {},
   "outputs": [
    {
     "data": {
      "text/plain": [
       "(DictVectorizer(sparse=False), LogisticRegression(C=1, max_iter=5000))"
      ]
     },
     "execution_count": 19,
     "metadata": {},
     "output_type": "execute_result"
    }
   ],
   "source": [
    "dv, model"
   ]
  },
  {
   "cell_type": "code",
   "execution_count": 20,
   "id": "752b98ac-1ec6-4c82-a3fa-7f84d402c862",
   "metadata": {},
   "outputs": [],
   "source": [
    "customer = {\n",
    "        \"customerid\": \"5442-pptjy\",\n",
    "        \"gender\": \"male\",\n",
    "        \"seniorcitizen\": 0,\n",
    "        \"partner\": \"yes\",\n",
    "        \"dependents\": \"yes\",\n",
    "        \"tenure\": 12,\n",
    "        \"phoneservice\": \"yes\",\n",
    "        \"multiplelines\": \"no\",\n",
    "        \"internetservice\": \"no\",\n",
    "        \"onlinesecurity\": \"no_internet_service\",\n",
    "        \"deviceprotection\": \"no_internet_service\",\n",
    "        \"techsupport\": \"no_internet_service\",\n",
    "        \"streamingtv\": \"no_internet_service\",\n",
    "        \"streamingmovies\": \"no_internet_service\",\n",
    "        \"contract\": \"two_year\",\n",
    "        \"paperlessbilling\": \"no\",\n",
    "        \"paymentmethod\": \"mailed_check\",\n",
    "        \"monthlycharges\": 19.7,\n",
    "        \"totalcharges\": 258.35,\n",
    "}"
   ]
  },
  {
   "cell_type": "code",
   "execution_count": 21,
   "id": "9c7caf3a-b580-42b8-882f-2053f3c8430c",
   "metadata": {},
   "outputs": [],
   "source": [
    "X = dv.transform([customer])"
   ]
  },
  {
   "cell_type": "code",
   "execution_count": 22,
   "id": "9fc2b12d-6aed-4c11-9bc4-ce3d202c075c",
   "metadata": {},
   "outputs": [
    {
     "data": {
      "text/plain": [
       "np.float64(0.03614647849853299)"
      ]
     },
     "execution_count": 22,
     "metadata": {},
     "output_type": "execute_result"
    }
   ],
   "source": [
    "model.predict_proba(X)[0,1]"
   ]
  },
  {
   "cell_type": "code",
   "execution_count": null,
   "id": "3f13afb4-9daf-4b86-bfe4-be421cd94dc2",
   "metadata": {},
   "outputs": [],
   "source": []
  },
  {
   "cell_type": "code",
   "execution_count": null,
   "id": "47882c8d-6d10-4b30-87d2-709696a5bef4",
   "metadata": {},
   "outputs": [],
   "source": []
  }
 ],
 "metadata": {
  "kernelspec": {
   "display_name": "Python 3 (ipykernel)",
   "language": "python",
   "name": "python3"
  },
  "language_info": {
   "codemirror_mode": {
    "name": "ipython",
    "version": 3
   },
   "file_extension": ".py",
   "mimetype": "text/x-python",
   "name": "python",
   "nbconvert_exporter": "python",
   "pygments_lexer": "ipython3",
   "version": "3.12.1"
  }
 },
 "nbformat": 4,
 "nbformat_minor": 5
}
